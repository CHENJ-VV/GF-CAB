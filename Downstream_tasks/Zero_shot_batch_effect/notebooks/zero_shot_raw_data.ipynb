{
 "cells": [
  {
   "cell_type": "code",
   "execution_count": 2,
   "metadata": {},
   "outputs": [],
   "source": [
    "from typing import Dict, Optional\n",
    "import numpy as np\n",
    "import scanpy as sc\n",
    "import scib\n",
    "from anndata import AnnData\n",
    "from sklearn.metrics import silhouette_score\n",
    "from tqdm import tqdm\n",
    "import pandas as pd\n",
    "import logging\n",
    "\n",
    "log = logging.getLogger(__name__)\n",
    "\n",
    "\n",
    "def eval_clustering_metrics(\n",
    "    adata: AnnData,\n",
    "    batch_key: Optional[str] = \"str_batch\",\n",
    "    label_key: str = \"cell_type\",\n",
    "    embedding_key: str = \"X\",  # \"X\" for raw, or embedding key in .obsm\n",
    "    resolutions: Optional[list] = None,\n",
    "    use_progress_bar: bool = True,\n",
    "    verbose: bool = False,\n",
    ") -> Dict[str, float]:\n",
    "    \"\"\"Evaluate biological and batch mixing metrics on an embedding or raw expression.\"\"\"\n",
    "    \n",
    "    results_dict = {}\n",
    "\n",
    "    # Determine whether to use .X or .obsm[embedding_key]\n",
    "    if embedding_key == \"X\":\n",
    "        use_rep = \"X\"\n",
    "        adata.obsm[\"X\"] = adata.X\n",
    "    elif embedding_key in adata.obsm:\n",
    "        use_rep = embedding_key\n",
    "    else:\n",
    "        raise ValueError(f\"embedding_key '{embedding_key}' not found in adata.obsm or is not 'X'\")\n",
    "\n",
    "    # Clear stale neighbors\n",
    "    if \"neighbors\" in adata.uns:\n",
    "        if verbose:\n",
    "            log.warning(f\"Removing stale neighbors computed from other representations.\")\n",
    "        adata.uns.pop(\"neighbors\", None)\n",
    "\n",
    "    sc.pp.neighbors(adata, use_rep=use_rep)\n",
    "\n",
    "    # Run Louvain across multiple resolutions\n",
    "    if resolutions is None:\n",
    "        resolutions = [2 * i / 20 for i in range(1, 21)]  # Default: 20 steps from 0.1 to 2.0\n",
    "\n",
    "    best_nmi = -1\n",
    "    best_res = None\n",
    "    best_clustering = None\n",
    "\n",
    "    if verbose:\n",
    "        log.info(f\"Searching for optimal clustering resolution on {use_rep}...\")\n",
    "\n",
    "    for res in tqdm(resolutions, disable=not use_progress_bar, desc=\"Louvain clustering\"):\n",
    "        sc.tl.louvain(adata, resolution=res, key_added=\"temp_cluster\")\n",
    "        nmi = scib.metrics.nmi(adata, \"temp_cluster\", label_key)\n",
    "        if nmi > best_nmi:\n",
    "            best_nmi = nmi\n",
    "            best_res = res\n",
    "            best_clustering = adata.obs[\"temp_cluster\"].copy()\n",
    "        del adata.obs[\"temp_cluster\"]\n",
    "\n",
    "    if verbose:\n",
    "        log.info(f\"Best resolution: {best_res:.2f} with NMI = {best_nmi:.4f}\")\n",
    "\n",
    "    adata.obs[\"cluster\"] = best_clustering\n",
    "\n",
    "    # Biological conservation metrics\n",
    "    results_dict[\"NMI_cluster/label\"] = scib.metrics.nmi(adata, \"cluster\", label_key, \"arithmetic\")\n",
    "    results_dict[\"ARI_cluster/label\"] = scib.metrics.ari(adata, \"cluster\", label_key)\n",
    "    results_dict[\"ASW_label\"] = scib.metrics.silhouette(adata, label_key, use_rep, \"euclidean\")\n",
    "\n",
    "    # Batch effect metrics (if batch_key valid)\n",
    "    if batch_key is not None and batch_key in adata.obs and adata.obs[batch_key].nunique() > 1:\n",
    "        results_dict[\"graph_conn\"] = scib.metrics.graph_connectivity(adata, label_key)\n",
    "        results_dict[\"ASW_batch\"] = scib.metrics.silhouette(adata, batch_key, use_rep, \"euclidean\")\n",
    "        results_dict[\"ASW_label/batch\"] = scib.metrics.silhouette_batch(\n",
    "            adata, batch_key, label_key, embed=use_rep, metric=\"euclidean\", return_all=False\n",
    "        )\n",
    "        results_dict[\"PCR_batch\"] = scib.metrics.pcr(\n",
    "            adata, covariate=batch_key, embed=use_rep, recompute_pca=True, n_comps=50, verbose=False\n",
    "        )\n",
    "    else:\n",
    "        if verbose:\n",
    "            log.info(\"Skipping batch metrics — only one batch present or invalid batch_key.\")\n",
    "    \n",
    "    results_dict[\"avg_bio\"] = np.mean([\n",
    "        results_dict[\"NMI_cluster/label\"],\n",
    "        results_dict[\"ARI_cluster/label\"],\n",
    "        results_dict[\"ASW_label\"]\n",
    "    ])\n",
    "\n",
    "    # Filter NaNs\n",
    "    results_dict = {k: v for k, v in results_dict.items() if not np.isnan(v)}\n",
    "\n",
    "    return results_dict\n"
   ]
  },
  {
   "cell_type": "code",
   "execution_count": null,
   "metadata": {},
   "outputs": [
    {
     "name": "stderr",
     "output_type": "stream",
     "text": [
      "Louvain clustering: 100%|██████████| 20/20 [00:15<00:00,  1.32it/s]\n",
      "/ibex/user/chenj0i/pretrain_gf/lib/python3.11/site-packages/scib/metrics/graph_connectivity.py:56: FutureWarning: pandas.value_counts is deprecated and will be removed in a future version. Use pd.Series(obj).value_counts() instead.\n",
      "  tab = pd.value_counts(labels)\n",
      "/ibex/user/chenj0i/pretrain_gf/lib/python3.11/site-packages/scib/metrics/graph_connectivity.py:56: FutureWarning: pandas.value_counts is deprecated and will be removed in a future version. Use pd.Series(obj).value_counts() instead.\n",
      "  tab = pd.value_counts(labels)\n",
      "/ibex/user/chenj0i/pretrain_gf/lib/python3.11/site-packages/scib/metrics/graph_connectivity.py:56: FutureWarning: pandas.value_counts is deprecated and will be removed in a future version. Use pd.Series(obj).value_counts() instead.\n",
      "  tab = pd.value_counts(labels)\n",
      "/ibex/user/chenj0i/pretrain_gf/lib/python3.11/site-packages/scib/metrics/graph_connectivity.py:56: FutureWarning: pandas.value_counts is deprecated and will be removed in a future version. Use pd.Series(obj).value_counts() instead.\n",
      "  tab = pd.value_counts(labels)\n",
      "/ibex/user/chenj0i/pretrain_gf/lib/python3.11/site-packages/scib/metrics/graph_connectivity.py:56: FutureWarning: pandas.value_counts is deprecated and will be removed in a future version. Use pd.Series(obj).value_counts() instead.\n",
      "  tab = pd.value_counts(labels)\n",
      "/ibex/user/chenj0i/pretrain_gf/lib/python3.11/site-packages/scib/metrics/graph_connectivity.py:56: FutureWarning: pandas.value_counts is deprecated and will be removed in a future version. Use pd.Series(obj).value_counts() instead.\n",
      "  tab = pd.value_counts(labels)\n",
      "/ibex/user/chenj0i/pretrain_gf/lib/python3.11/site-packages/scib/metrics/graph_connectivity.py:56: FutureWarning: pandas.value_counts is deprecated and will be removed in a future version. Use pd.Series(obj).value_counts() instead.\n",
      "  tab = pd.value_counts(labels)\n",
      "/ibex/user/chenj0i/pretrain_gf/lib/python3.11/site-packages/scib/metrics/graph_connectivity.py:56: FutureWarning: pandas.value_counts is deprecated and will be removed in a future version. Use pd.Series(obj).value_counts() instead.\n",
      "  tab = pd.value_counts(labels)\n",
      "/ibex/user/chenj0i/pretrain_gf/lib/python3.11/site-packages/scib/metrics/graph_connectivity.py:56: FutureWarning: pandas.value_counts is deprecated and will be removed in a future version. Use pd.Series(obj).value_counts() instead.\n",
      "  tab = pd.value_counts(labels)\n"
     ]
    },
    {
     "name": "stdout",
     "output_type": "stream",
     "text": [
      "mean silhouette per group:                    silhouette_score\n",
      "group                              \n",
      "B cells                    0.986484\n",
      "CD14+ Monocytes            0.943531\n",
      "CD4 T cells                0.980745\n",
      "CD8 T cells                0.951482\n",
      "Dendritic Cells            0.956119\n",
      "FCGR3A+ Monocytes          0.986242\n",
      "Megakaryocytes             0.856766\n",
      "NK cells                   0.953083\n",
      "Other                      0.930244\n"
     ]
    },
    {
     "name": "stderr",
     "output_type": "stream",
     "text": [
      "/ibex/user/chenj0i/pretrain_gf/lib/python3.11/site-packages/anndata/_core/anndata.py:522: FutureWarning: The dtype argument is deprecated and will be removed in late 2024.\n",
      "  warnings.warn(\n"
     ]
    }
   ],
   "source": [
    "import scanpy as sc \n",
    "adata = sc.read_h5ad(\"zero_shot_batch_data/pbmc.h5ad\") \n",
    "\n",
    "results_dict = eval_clustering_metrics(adata=adata, \n",
    "                                        batch_key=\"batch\",\n",
    "                                        label_key=\"celltype\",\n",
    "                                        embedding_key=\"X\",  # or \"X_scGPT\", etc.\n",
    "                                        verbose=True)"
   ]
  },
  {
   "cell_type": "code",
   "execution_count": 12,
   "metadata": {},
   "outputs": [
    {
     "data": {
      "text/plain": [
       "{'NMI_cluster/label': 0.7043350648326699,\n",
       " 'ARI_cluster/label': 0.6456273245075416,\n",
       " 'ASW_label': 0.5333220548927784,\n",
       " 'graph_conn': 0.9038879996225364,\n",
       " 'ASW_batch': 0.4965497492812574,\n",
       " 'ASW_label/batch': 0.9494108132303586,\n",
       " 'PCR_batch': 0.0009914006163016576,\n",
       " 'avg_bio': 0.6277614814109966}"
      ]
     },
     "execution_count": 12,
     "metadata": {},
     "output_type": "execute_result"
    }
   ],
   "source": [
    "results_dict"
   ]
  },
  {
   "cell_type": "code",
   "execution_count": 5,
   "metadata": {},
   "outputs": [
    {
     "name": "stderr",
     "output_type": "stream",
     "text": [
      "/tmp/ipykernel_786097/2986997571.py:30: ImplicitModificationWarning: Setting element `.obsm['X']` of view, initializing view as actual.\n",
      "  adata.obsm[\"X\"] = adata.X\n",
      "Louvain clustering: 100%|██████████| 20/20 [00:11<00:00,  1.68it/s]\n",
      "/ibex/user/chenj0i/pretrain_gf/lib/python3.11/site-packages/scib/metrics/graph_connectivity.py:56: FutureWarning: pandas.value_counts is deprecated and will be removed in a future version. Use pd.Series(obj).value_counts() instead.\n",
      "  tab = pd.value_counts(labels)\n",
      "/ibex/user/chenj0i/pretrain_gf/lib/python3.11/site-packages/scib/metrics/graph_connectivity.py:56: FutureWarning: pandas.value_counts is deprecated and will be removed in a future version. Use pd.Series(obj).value_counts() instead.\n",
      "  tab = pd.value_counts(labels)\n",
      "/ibex/user/chenj0i/pretrain_gf/lib/python3.11/site-packages/scib/metrics/graph_connectivity.py:56: FutureWarning: pandas.value_counts is deprecated and will be removed in a future version. Use pd.Series(obj).value_counts() instead.\n",
      "  tab = pd.value_counts(labels)\n",
      "/ibex/user/chenj0i/pretrain_gf/lib/python3.11/site-packages/scib/metrics/graph_connectivity.py:56: FutureWarning: pandas.value_counts is deprecated and will be removed in a future version. Use pd.Series(obj).value_counts() instead.\n",
      "  tab = pd.value_counts(labels)\n",
      "/ibex/user/chenj0i/pretrain_gf/lib/python3.11/site-packages/scib/metrics/graph_connectivity.py:56: FutureWarning: pandas.value_counts is deprecated and will be removed in a future version. Use pd.Series(obj).value_counts() instead.\n",
      "  tab = pd.value_counts(labels)\n",
      "/ibex/user/chenj0i/pretrain_gf/lib/python3.11/site-packages/scib/metrics/graph_connectivity.py:56: FutureWarning: pandas.value_counts is deprecated and will be removed in a future version. Use pd.Series(obj).value_counts() instead.\n",
      "  tab = pd.value_counts(labels)\n",
      "/ibex/user/chenj0i/pretrain_gf/lib/python3.11/site-packages/scib/metrics/graph_connectivity.py:56: FutureWarning: pandas.value_counts is deprecated and will be removed in a future version. Use pd.Series(obj).value_counts() instead.\n",
      "  tab = pd.value_counts(labels)\n",
      "/ibex/user/chenj0i/pretrain_gf/lib/python3.11/site-packages/scib/metrics/graph_connectivity.py:56: FutureWarning: pandas.value_counts is deprecated and will be removed in a future version. Use pd.Series(obj).value_counts() instead.\n",
      "  tab = pd.value_counts(labels)\n",
      "/ibex/user/chenj0i/pretrain_gf/lib/python3.11/site-packages/scib/metrics/graph_connectivity.py:56: FutureWarning: pandas.value_counts is deprecated and will be removed in a future version. Use pd.Series(obj).value_counts() instead.\n",
      "  tab = pd.value_counts(labels)\n",
      "/ibex/user/chenj0i/pretrain_gf/lib/python3.11/site-packages/scib/metrics/graph_connectivity.py:56: FutureWarning: pandas.value_counts is deprecated and will be removed in a future version. Use pd.Series(obj).value_counts() instead.\n",
      "  tab = pd.value_counts(labels)\n",
      "/ibex/user/chenj0i/pretrain_gf/lib/python3.11/site-packages/scib/metrics/graph_connectivity.py:56: FutureWarning: pandas.value_counts is deprecated and will be removed in a future version. Use pd.Series(obj).value_counts() instead.\n",
      "  tab = pd.value_counts(labels)\n",
      "/ibex/user/chenj0i/pretrain_gf/lib/python3.11/site-packages/scib/metrics/graph_connectivity.py:56: FutureWarning: pandas.value_counts is deprecated and will be removed in a future version. Use pd.Series(obj).value_counts() instead.\n",
      "  tab = pd.value_counts(labels)\n",
      "/ibex/user/chenj0i/pretrain_gf/lib/python3.11/site-packages/scib/metrics/graph_connectivity.py:56: FutureWarning: pandas.value_counts is deprecated and will be removed in a future version. Use pd.Series(obj).value_counts() instead.\n",
      "  tab = pd.value_counts(labels)\n",
      "/ibex/user/chenj0i/pretrain_gf/lib/python3.11/site-packages/scib/metrics/graph_connectivity.py:56: FutureWarning: pandas.value_counts is deprecated and will be removed in a future version. Use pd.Series(obj).value_counts() instead.\n",
      "  tab = pd.value_counts(labels)\n",
      "/ibex/user/chenj0i/pretrain_gf/lib/python3.11/site-packages/scib/metrics/graph_connectivity.py:56: FutureWarning: pandas.value_counts is deprecated and will be removed in a future version. Use pd.Series(obj).value_counts() instead.\n",
      "  tab = pd.value_counts(labels)\n",
      "/ibex/user/chenj0i/pretrain_gf/lib/python3.11/site-packages/scib/metrics/graph_connectivity.py:56: FutureWarning: pandas.value_counts is deprecated and will be removed in a future version. Use pd.Series(obj).value_counts() instead.\n",
      "  tab = pd.value_counts(labels)\n",
      "/ibex/user/chenj0i/pretrain_gf/lib/python3.11/site-packages/scib/metrics/graph_connectivity.py:56: FutureWarning: pandas.value_counts is deprecated and will be removed in a future version. Use pd.Series(obj).value_counts() instead.\n",
      "  tab = pd.value_counts(labels)\n",
      "/ibex/user/chenj0i/pretrain_gf/lib/python3.11/site-packages/scib/metrics/graph_connectivity.py:56: FutureWarning: pandas.value_counts is deprecated and will be removed in a future version. Use pd.Series(obj).value_counts() instead.\n",
      "  tab = pd.value_counts(labels)\n",
      "/ibex/user/chenj0i/pretrain_gf/lib/python3.11/site-packages/scib/metrics/graph_connectivity.py:56: FutureWarning: pandas.value_counts is deprecated and will be removed in a future version. Use pd.Series(obj).value_counts() instead.\n",
      "  tab = pd.value_counts(labels)\n",
      "/ibex/user/chenj0i/pretrain_gf/lib/python3.11/site-packages/scib/metrics/graph_connectivity.py:56: FutureWarning: pandas.value_counts is deprecated and will be removed in a future version. Use pd.Series(obj).value_counts() instead.\n",
      "  tab = pd.value_counts(labels)\n"
     ]
    },
    {
     "name": "stdout",
     "output_type": "stream",
     "text": [
      "mean silhouette per group: nan\n"
     ]
    },
    {
     "name": "stderr",
     "output_type": "stream",
     "text": [
      "/ibex/user/chenj0i/pretrain_gf/lib/python3.11/site-packages/anndata/_core/anndata.py:522: FutureWarning: The dtype argument is deprecated and will be removed in late 2024.\n",
      "  warnings.warn(\n"
     ]
    }
   ],
   "source": [
    "results_dict_ood = eval_clustering_metrics(adata=adata_ood[:15000],\n",
    "                                        batch_key=\"batch\",\n",
    "                                        label_key=\"cell_type\",\n",
    "                                        embedding_key=\"X\", \n",
    "                                        verbose=True)"
   ]
  },
  {
   "cell_type": "code",
   "execution_count": 6,
   "metadata": {},
   "outputs": [
    {
     "data": {
      "text/plain": [
       "{'NMI_cluster/label': 0.9334102174490695,\n",
       " 'ARI_cluster/label': 0.9699361136567832,\n",
       " 'ASW_label': 0.5538543930108312,\n",
       " 'graph_conn': 0.9231509101914211,\n",
       " 'ASW_batch': 0.6438532075334105,\n",
       " 'PCR_batch': 0.042066597759588056,\n",
       " 'avg_bio': 0.8190669080388946}"
      ]
     },
     "execution_count": 6,
     "metadata": {},
     "output_type": "execute_result"
    }
   ],
   "source": [
    "results_dict_ood"
   ]
  }
 ],
 "metadata": {
  "kernelspec": {
   "display_name": "Python 3",
   "language": "python",
   "name": "python3"
  },
  "language_info": {
   "codemirror_mode": {
    "name": "ipython",
    "version": 3
   },
   "file_extension": ".py",
   "mimetype": "text/x-python",
   "name": "python",
   "nbconvert_exporter": "python",
   "pygments_lexer": "ipython3",
   "version": "3.11.7"
  }
 },
 "nbformat": 4,
 "nbformat_minor": 2
}
