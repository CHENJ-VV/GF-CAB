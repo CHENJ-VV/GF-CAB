{
 "cells": [
  {
   "cell_type": "code",
   "execution_count": null,
   "metadata": {},
   "outputs": [],
   "source": [
    "import os\n",
    "from collections import Counter\n",
    "import datetime\n",
    "import pickle\n",
    "import numpy as np\n",
    "from datasets import load_from_disk\n",
    "from sklearn.metrics import accuracy_score, f1_score\n",
    "from sklearn.ensemble import RandomForestClassifier\n",
    "from sklearn.linear_model import LogisticRegression\n",
    "from sklearn.svm import SVC\n",
    "from sklearn.preprocessing import StandardScaler\n",
    "from sklearn.pipeline import make_pipeline\n",
    "from tqdm import tqdm\n",
    "\n",
    "# Load datasets\n",
    "train_dataset = load_from_disk(\"example_input_files/cell_classification/cell_type_annotation/cell_type_train_data.dataset\")\n",
    "eval_dataset = load_from_disk(\"example_input_files/cell_classification/cell_type_annotation/cell_type_test_data.dataset\")\n",
    "\n",
    "dataset_list, evalset_list, organ_list, target_dict_list = [], [], [], []\n",
    "\n",
    "for organ in Counter(train_dataset[\"organ_major\"]).keys():\n",
    "    if organ in [\"bone_marrow\"]:  \n",
    "        continue\n",
    "    elif organ == \"immune\":\n",
    "        organ_ids = [\"immune\", \"bone_marrow\"]\n",
    "        organ_list += [\"immune\"]\n",
    "    else:\n",
    "        organ_ids = [organ]\n",
    "        organ_list += [organ]\n",
    "    \n",
    "    def if_organ(example):\n",
    "        return example[\"organ_major\"] in organ_ids\n",
    "    trainset_organ = train_dataset.filter(if_organ, num_proc=16)\n",
    "    \n",
    "    celltype_counter = Counter(trainset_organ[\"cell_type\"])\n",
    "    total_cells = sum(celltype_counter.values())\n",
    "    cells_to_keep = [k for k, v in celltype_counter.items() if v > (0.005 * total_cells)]\n",
    "    \n",
    "    def if_not_rare_celltype(example):\n",
    "        return example[\"cell_type\"] in cells_to_keep\n",
    "    trainset_organ_subset = trainset_organ.filter(if_not_rare_celltype, num_proc=16)\n",
    "    \n",
    "    trainset_organ_shuffled = trainset_organ_subset.shuffle(seed=42)\n",
    "    trainset_organ_shuffled = trainset_organ_shuffled.rename_column(\"cell_type\", \"label\")\n",
    "    trainset_organ_shuffled = trainset_organ_shuffled.remove_columns(\"organ_major\")\n",
    "    \n",
    "    target_names = list(Counter(trainset_organ_shuffled[\"label\"]).keys())\n",
    "    target_name_id_dict = dict(zip(target_names, range(len(target_names))))\n",
    "    target_dict_list.append(target_name_id_dict)\n",
    "    \n",
    "    def classes_to_ids(example):\n",
    "        example[\"label\"] = target_name_id_dict[example[\"label\"]]\n",
    "        return example\n",
    "    labeled_trainset = trainset_organ_shuffled.map(classes_to_ids, num_proc=16)\n",
    "    \n",
    "    labeled_train_split = labeled_trainset.select(range(0, round(len(labeled_trainset) * 0.8)))\n",
    "    labeled_eval_split = labeled_trainset.select(range(round(len(labeled_trainset) * 0.8), len(labeled_trainset)))\n",
    "    \n",
    "    trained_labels = list(Counter(labeled_train_split[\"label\"]).keys())\n",
    "    def if_trained_label(example):\n",
    "        return example[\"label\"] in trained_labels\n",
    "    labeled_eval_split_subset = labeled_eval_split.filter(if_trained_label, num_proc=16)\n",
    "    \n",
    "    dataset_list.append(labeled_train_split)\n",
    "    evalset_list.append(labeled_eval_split_subset)\n",
    "\n",
    "trainset_dict = dict(zip(organ_list, dataset_list))\n",
    "traintargetdict_dict = dict(zip(organ_list, target_dict_list))\n",
    "evalset_dict = dict(zip(organ_list, evalset_list))"
   ]
  },
  {
   "cell_type": "code",
   "execution_count": 2,
   "metadata": {},
   "outputs": [
    {
     "name": "stdout",
     "output_type": "stream",
     "text": [
      "\n",
      "===== Organ: spleen =====\n"
     ]
    },
    {
     "name": "stderr",
     "output_type": "stream",
     "text": [
      "padding...: 12330it [00:00, 76763.11it/s]\n",
      "padding...: 3083it [00:00, 75593.59it/s]\n",
      "spleen models:   0%|          | 0/2 [00:00<?, ?it/s]"
     ]
    },
    {
     "name": "stdout",
     "output_type": "stream",
     "text": [
      "Training RandomForest...\n"
     ]
    },
    {
     "name": "stderr",
     "output_type": "stream",
     "text": [
      "spleen models:  50%|█████     | 1/2 [00:00<00:00,  1.99it/s]/ibex/user/chenj0i/pretrain_gf/lib/python3.11/site-packages/sklearn/linear_model/_logistic.py:1247: FutureWarning: 'multi_class' was deprecated in version 1.5 and will be removed in 1.7. From then on, it will always use 'multinomial'. Leave it to its default value to avoid this warning.\n",
      "  warnings.warn(\n",
      "                                                            "
     ]
    },
    {
     "name": "stdout",
     "output_type": "stream",
     "text": [
      "RandomForest - Acc: 0.5864, Macro F1: 0.1947, Weighted F1: 0.5845\n",
      "Training LogisticRegression...\n",
      "LogisticRegression - Acc: 0.7415, Macro F1: 0.1419, Weighted F1: 0.6331\n",
      "\n",
      "===== Organ: kidney =====\n"
     ]
    },
    {
     "name": "stderr",
     "output_type": "stream",
     "text": [
      "padding...: 35199it [00:00, 54605.10it/s]\n",
      "padding...: 8800it [00:00, 57420.64it/s]\n",
      "kidney models:   0%|          | 0/2 [00:00<?, ?it/s]"
     ]
    },
    {
     "name": "stdout",
     "output_type": "stream",
     "text": [
      "Training RandomForest...\n"
     ]
    },
    {
     "name": "stderr",
     "output_type": "stream",
     "text": [
      "kidney models:  50%|█████     | 1/2 [00:01<00:01,  1.65s/it]"
     ]
    },
    {
     "name": "stdout",
     "output_type": "stream",
     "text": [
      "RandomForest - Acc: 0.1755, Macro F1: 0.0826, Weighted F1: 0.1772\n",
      "Training LogisticRegression...\n"
     ]
    },
    {
     "name": "stderr",
     "output_type": "stream",
     "text": [
      "/ibex/user/chenj0i/pretrain_gf/lib/python3.11/site-packages/sklearn/linear_model/_logistic.py:1247: FutureWarning: 'multi_class' was deprecated in version 1.5 and will be removed in 1.7. From then on, it will always use 'multinomial'. Leave it to its default value to avoid this warning.\n",
      "  warnings.warn(\n",
      "                                                            "
     ]
    },
    {
     "name": "stdout",
     "output_type": "stream",
     "text": [
      "LogisticRegression - Acc: 0.3287, Macro F1: 0.0713, Weighted F1: 0.2267\n",
      "\n",
      "===== Organ: lung =====\n"
     ]
    },
    {
     "name": "stderr",
     "output_type": "stream",
     "text": [
      "padding...: 26098it [00:00, 63650.72it/s]\n",
      "padding...: 6525it [00:00, 61571.18it/s]\n",
      "lung models:   0%|          | 0/2 [00:00<?, ?it/s]"
     ]
    },
    {
     "name": "stdout",
     "output_type": "stream",
     "text": [
      "Training RandomForest...\n"
     ]
    },
    {
     "name": "stderr",
     "output_type": "stream",
     "text": [
      "lung models:  50%|█████     | 1/2 [00:00<00:00,  1.05it/s]"
     ]
    },
    {
     "name": "stdout",
     "output_type": "stream",
     "text": [
      "RandomForest - Acc: 0.2077, Macro F1: 0.0910, Weighted F1: 0.2066\n",
      "Training LogisticRegression...\n"
     ]
    },
    {
     "name": "stderr",
     "output_type": "stream",
     "text": [
      "/ibex/user/chenj0i/pretrain_gf/lib/python3.11/site-packages/sklearn/linear_model/_logistic.py:1247: FutureWarning: 'multi_class' was deprecated in version 1.5 and will be removed in 1.7. From then on, it will always use 'multinomial'. Leave it to its default value to avoid this warning.\n",
      "  warnings.warn(\n",
      "                                                          "
     ]
    },
    {
     "name": "stdout",
     "output_type": "stream",
     "text": [
      "LogisticRegression - Acc: 0.3099, Macro F1: 0.0761, Weighted F1: 0.2399\n",
      "\n",
      "===== Organ: brain =====\n"
     ]
    },
    {
     "name": "stderr",
     "output_type": "stream",
     "text": [
      "padding...: 10656it [00:00, 67287.79it/s]\n",
      "padding...: 2664it [00:00, 75149.65it/s]\n",
      "brain models:   0%|          | 0/2 [00:00<?, ?it/s]"
     ]
    },
    {
     "name": "stdout",
     "output_type": "stream",
     "text": [
      "Training RandomForest...\n"
     ]
    },
    {
     "name": "stderr",
     "output_type": "stream",
     "text": [
      "brain models:  50%|█████     | 1/2 [00:00<00:00,  2.21it/s]"
     ]
    },
    {
     "name": "stdout",
     "output_type": "stream",
     "text": [
      "RandomForest - Acc: 0.7459, Macro F1: 0.1863, Weighted F1: 0.7495\n",
      "Training LogisticRegression...\n"
     ]
    },
    {
     "name": "stderr",
     "output_type": "stream",
     "text": [
      "/ibex/user/chenj0i/pretrain_gf/lib/python3.11/site-packages/sklearn/linear_model/_logistic.py:1247: FutureWarning: 'multi_class' was deprecated in version 1.5 and will be removed in 1.7. From then on, it will always use 'multinomial'. Leave it to its default value to avoid this warning.\n",
      "  warnings.warn(\n",
      "                                                           "
     ]
    },
    {
     "name": "stdout",
     "output_type": "stream",
     "text": [
      "LogisticRegression - Acc: 0.8622, Macro F1: 0.1543, Weighted F1: 0.7985\n",
      "\n",
      "===== Organ: placenta =====\n"
     ]
    },
    {
     "name": "stderr",
     "output_type": "stream",
     "text": [
      "padding...: 7415it [00:00, 54391.55it/s]\n",
      "padding...: 1854it [00:00, 57379.91it/s]\n",
      "placenta models:   0%|          | 0/2 [00:00<?, ?it/s]"
     ]
    },
    {
     "name": "stdout",
     "output_type": "stream",
     "text": [
      "Training RandomForest...\n"
     ]
    },
    {
     "name": "stderr",
     "output_type": "stream",
     "text": [
      "placenta models:  50%|█████     | 1/2 [00:00<00:00,  1.88it/s]/ibex/user/chenj0i/pretrain_gf/lib/python3.11/site-packages/sklearn/linear_model/_logistic.py:1247: FutureWarning: 'multi_class' was deprecated in version 1.5 and will be removed in 1.7. From then on, it will always use 'multinomial'. Leave it to its default value to avoid this warning.\n",
      "  warnings.warn(\n",
      "                                                              "
     ]
    },
    {
     "name": "stdout",
     "output_type": "stream",
     "text": [
      "RandomForest - Acc: 0.6009, Macro F1: 0.3471, Weighted F1: 0.5959\n",
      "Training LogisticRegression...\n",
      "LogisticRegression - Acc: 0.7406, Macro F1: 0.2836, Weighted F1: 0.6302\n",
      "\n",
      "===== Organ: immune =====\n"
     ]
    },
    {
     "name": "stderr",
     "output_type": "stream",
     "text": [
      "padding...: 20562it [00:00, 74370.86it/s]\n",
      "padding...: 5140it [00:00, 70895.86it/s]\n",
      "immune models:   0%|          | 0/2 [00:00<?, ?it/s]"
     ]
    },
    {
     "name": "stdout",
     "output_type": "stream",
     "text": [
      "Training RandomForest...\n"
     ]
    },
    {
     "name": "stderr",
     "output_type": "stream",
     "text": [
      "immune models:  50%|█████     | 1/2 [00:00<00:00,  1.25it/s]"
     ]
    },
    {
     "name": "stdout",
     "output_type": "stream",
     "text": [
      "RandomForest - Acc: 0.2008, Macro F1: 0.1312, Weighted F1: 0.2005\n",
      "Training LogisticRegression...\n"
     ]
    },
    {
     "name": "stderr",
     "output_type": "stream",
     "text": [
      "/ibex/user/chenj0i/pretrain_gf/lib/python3.11/site-packages/sklearn/linear_model/_logistic.py:1247: FutureWarning: 'multi_class' was deprecated in version 1.5 and will be removed in 1.7. From then on, it will always use 'multinomial'. Leave it to its default value to avoid this warning.\n",
      "  warnings.warn(\n",
      "                                                            "
     ]
    },
    {
     "name": "stdout",
     "output_type": "stream",
     "text": [
      "LogisticRegression - Acc: 0.2749, Macro F1: 0.0921, Weighted F1: 0.1488\n",
      "\n",
      "===== Organ: large_intestine =====\n"
     ]
    },
    {
     "name": "stderr",
     "output_type": "stream",
     "text": [
      "padding...: 39678it [00:00, 74202.67it/s]\n",
      "padding...: 9920it [00:00, 77582.36it/s]\n",
      "large_intestine models:   0%|          | 0/2 [00:00<?, ?it/s]"
     ]
    },
    {
     "name": "stdout",
     "output_type": "stream",
     "text": [
      "Training RandomForest...\n"
     ]
    },
    {
     "name": "stderr",
     "output_type": "stream",
     "text": [
      "large_intestine models:  50%|█████     | 1/2 [00:01<00:01,  1.47s/it]"
     ]
    },
    {
     "name": "stdout",
     "output_type": "stream",
     "text": [
      "RandomForest - Acc: 0.2541, Macro F1: 0.0983, Weighted F1: 0.2556\n",
      "Training LogisticRegression...\n"
     ]
    },
    {
     "name": "stderr",
     "output_type": "stream",
     "text": [
      "/ibex/user/chenj0i/pretrain_gf/lib/python3.11/site-packages/sklearn/linear_model/_logistic.py:1247: FutureWarning: 'multi_class' was deprecated in version 1.5 and will be removed in 1.7. From then on, it will always use 'multinomial'. Leave it to its default value to avoid this warning.\n",
      "  warnings.warn(\n",
      "                                                                     "
     ]
    },
    {
     "name": "stdout",
     "output_type": "stream",
     "text": [
      "LogisticRegression - Acc: 0.3095, Macro F1: 0.0843, Weighted F1: 0.2555\n",
      "\n",
      "===== Organ: pancreas =====\n"
     ]
    },
    {
     "name": "stderr",
     "output_type": "stream",
     "text": [
      "padding...: 21934it [00:00, 63776.95it/s]\n",
      "padding...: 5484it [00:00, 71125.95it/s]\n",
      "pancreas models:   0%|          | 0/2 [00:00<?, ?it/s]"
     ]
    },
    {
     "name": "stdout",
     "output_type": "stream",
     "text": [
      "Training RandomForest...\n"
     ]
    },
    {
     "name": "stderr",
     "output_type": "stream",
     "text": [
      "pancreas models:  50%|█████     | 1/2 [00:00<00:00,  1.19it/s]"
     ]
    },
    {
     "name": "stdout",
     "output_type": "stream",
     "text": [
      "RandomForest - Acc: 0.2438, Macro F1: 0.1438, Weighted F1: 0.2424\n",
      "Training LogisticRegression...\n"
     ]
    },
    {
     "name": "stderr",
     "output_type": "stream",
     "text": [
      "/ibex/user/chenj0i/pretrain_gf/lib/python3.11/site-packages/sklearn/linear_model/_logistic.py:1247: FutureWarning: 'multi_class' was deprecated in version 1.5 and will be removed in 1.7. From then on, it will always use 'multinomial'. Leave it to its default value to avoid this warning.\n",
      "  warnings.warn(\n",
      "                                                              "
     ]
    },
    {
     "name": "stdout",
     "output_type": "stream",
     "text": [
      "LogisticRegression - Acc: 0.3485, Macro F1: 0.1330, Weighted F1: 0.2601\n",
      "\n",
      "===== Organ: liver =====\n"
     ]
    },
    {
     "name": "stderr",
     "output_type": "stream",
     "text": [
      "padding...: 22427it [00:00, 64230.25it/s]\n",
      "padding...: 5607it [00:00, 62494.75it/s]\n",
      "liver models:   0%|          | 0/2 [00:00<?, ?it/s]"
     ]
    },
    {
     "name": "stdout",
     "output_type": "stream",
     "text": [
      "Training RandomForest...\n"
     ]
    },
    {
     "name": "stderr",
     "output_type": "stream",
     "text": [
      "liver models:  50%|█████     | 1/2 [00:00<00:00,  1.26it/s]"
     ]
    },
    {
     "name": "stdout",
     "output_type": "stream",
     "text": [
      "RandomForest - Acc: 0.2814, Macro F1: 0.1262, Weighted F1: 0.2809\n",
      "Training LogisticRegression...\n"
     ]
    },
    {
     "name": "stderr",
     "output_type": "stream",
     "text": [
      "/ibex/user/chenj0i/pretrain_gf/lib/python3.11/site-packages/sklearn/linear_model/_logistic.py:1247: FutureWarning: 'multi_class' was deprecated in version 1.5 and will be removed in 1.7. From then on, it will always use 'multinomial'. Leave it to its default value to avoid this warning.\n",
      "  warnings.warn(\n",
      "                                                           "
     ]
    },
    {
     "name": "stdout",
     "output_type": "stream",
     "text": [
      "LogisticRegression - Acc: 0.3512, Macro F1: 0.0738, Weighted F1: 0.2633\n"
     ]
    },
    {
     "name": "stderr",
     "output_type": "stream",
     "text": [
      "\r"
     ]
    }
   ],
   "source": [
    "def extract_features(dataset):\n",
    "    seqs = dataset[\"input_ids\"]\n",
    "    max_len = max(len(s) for s in seqs)\n",
    "    padded = np.zeros((len(seqs), max_len), dtype=np.int64)\n",
    "    for i, s in tqdm(enumerate(seqs), desc=\"padding...\", colour=\"blue\"):\n",
    "        padded[i, :len(s)] = s\n",
    "    X = np.mean(padded, axis=1)[:, None]  # simple mean pooling\n",
    "    y = np.array(dataset[\"label\"])\n",
    "    return X, y\n",
    "\n",
    "results = {}\n",
    "\n",
    "for organ in organ_list:\n",
    "    print(f\"\\n===== Organ: {organ} =====\")\n",
    "    organ_trainset = trainset_dict[organ]\n",
    "    organ_evalset = evalset_dict[organ]\n",
    "    \n",
    "    X_train, y_train = extract_features(organ_trainset)\n",
    "    X_test, y_test = extract_features(organ_evalset)\n",
    "    \n",
    "    classifiers = {\n",
    "        \"RandomForest\": RandomForestClassifier(n_estimators=200, random_state=42, n_jobs=-1),\n",
    "        # \"SVM\": make_pipeline(StandardScaler(), SVC(kernel=\"rbf\", probability=True, random_state=42)),\n",
    "        \"LogisticRegression\": make_pipeline(StandardScaler(), LogisticRegression(max_iter=500, multi_class=\"multinomial\"))\n",
    "    }\n",
    "    \n",
    "    organ_results = {}\n",
    "    for clf_name, clf in tqdm(classifiers.items(), desc=f\"{organ} models\", leave=False):\n",
    "        print(f\"Training {clf_name}...\")\n",
    "        clf.fit(X_train, y_train)\n",
    "        preds = clf.predict(X_test)\n",
    "        acc = accuracy_score(y_test, preds)\n",
    "        macro_f1 = f1_score(y_test, preds, average=\"macro\")\n",
    "        weighted_f1 = f1_score(y_test, preds, average=\"weighted\")\n",
    "        organ_results[clf_name] = {\n",
    "            \"accuracy\": acc,\n",
    "            \"macro_f1\": macro_f1,\n",
    "            \"weighted_f1\": weighted_f1\n",
    "        }\n",
    "        print(f\"{clf_name} - Acc: {acc:.4f}, Macro F1: {macro_f1:.4f}, Weighted F1: {weighted_f1:.4f}\")\n",
    "    \n",
    "    results[organ] = organ_results\n"
   ]
  },
  {
   "cell_type": "code",
   "execution_count": 4,
   "metadata": {},
   "outputs": [
    {
     "name": "stdout",
     "output_type": "stream",
     "text": [
      "\n",
      "===== Organ: spleen =====\n"
     ]
    },
    {
     "name": "stderr",
     "output_type": "stream",
     "text": [
      "padding...: 12330it [00:00, 74149.68it/s]\n",
      "padding...: 3083it [00:00, 79566.32it/s]\n",
      "spleen models:   0%|          | 0/1 [00:00<?, ?it/s]"
     ]
    },
    {
     "name": "stdout",
     "output_type": "stream",
     "text": [
      "Training SVM...\n"
     ]
    },
    {
     "name": "stderr",
     "output_type": "stream",
     "text": [
      "                                                            "
     ]
    },
    {
     "name": "stdout",
     "output_type": "stream",
     "text": [
      "SVM - Acc: 0.7434, Macro F1: 0.1421, Weighted F1: 0.6340\n",
      "\n",
      "===== Organ: kidney =====\n"
     ]
    },
    {
     "name": "stderr",
     "output_type": "stream",
     "text": [
      "padding...: 35199it [00:00, 54654.42it/s]\n",
      "padding...: 8800it [00:00, 54786.08it/s]\n",
      "kidney models:   0%|          | 0/1 [00:00<?, ?it/s]"
     ]
    },
    {
     "name": "stdout",
     "output_type": "stream",
     "text": [
      "Training SVM...\n"
     ]
    },
    {
     "name": "stderr",
     "output_type": "stream",
     "text": [
      "                                                             "
     ]
    },
    {
     "name": "stdout",
     "output_type": "stream",
     "text": [
      "SVM - Acc: 0.3340, Macro F1: 0.0731, Weighted F1: 0.2334\n",
      "\n",
      "===== Organ: lung =====\n"
     ]
    },
    {
     "name": "stderr",
     "output_type": "stream",
     "text": [
      "padding...: 26098it [00:00, 63652.31it/s]\n",
      "padding...: 6525it [00:00, 63915.46it/s]\n",
      "lung models:   0%|          | 0/1 [00:00<?, ?it/s]"
     ]
    },
    {
     "name": "stdout",
     "output_type": "stream",
     "text": [
      "Training SVM...\n"
     ]
    },
    {
     "name": "stderr",
     "output_type": "stream",
     "text": [
      "                                                           "
     ]
    },
    {
     "name": "stdout",
     "output_type": "stream",
     "text": [
      "SVM - Acc: 0.3137, Macro F1: 0.0773, Weighted F1: 0.2438\n",
      "\n",
      "===== Organ: brain =====\n"
     ]
    },
    {
     "name": "stderr",
     "output_type": "stream",
     "text": [
      "padding...: 10656it [00:00, 73057.45it/s]\n",
      "padding...: 2664it [00:00, 75210.35it/s]\n",
      "brain models:   0%|          | 0/1 [00:00<?, ?it/s]"
     ]
    },
    {
     "name": "stdout",
     "output_type": "stream",
     "text": [
      "Training SVM...\n"
     ]
    },
    {
     "name": "stderr",
     "output_type": "stream",
     "text": [
      "                                                           "
     ]
    },
    {
     "name": "stdout",
     "output_type": "stream",
     "text": [
      "SVM - Acc: 0.8622, Macro F1: 0.1543, Weighted F1: 0.7985\n",
      "\n",
      "===== Organ: placenta =====\n"
     ]
    },
    {
     "name": "stderr",
     "output_type": "stream",
     "text": [
      "padding...: 7415it [00:00, 54724.23it/s]\n",
      "padding...: 1854it [00:00, 57124.05it/s]\n",
      "placenta models:   0%|          | 0/1 [00:00<?, ?it/s]"
     ]
    },
    {
     "name": "stdout",
     "output_type": "stream",
     "text": [
      "Training SVM...\n"
     ]
    },
    {
     "name": "stderr",
     "output_type": "stream",
     "text": [
      "                                                              "
     ]
    },
    {
     "name": "stdout",
     "output_type": "stream",
     "text": [
      "SVM - Acc: 0.7406, Macro F1: 0.2836, Weighted F1: 0.6302\n",
      "\n",
      "===== Organ: immune =====\n"
     ]
    },
    {
     "name": "stderr",
     "output_type": "stream",
     "text": [
      "padding...: 20562it [00:00, 74360.35it/s]\n",
      "padding...: 5140it [00:00, 73610.91it/s]\n",
      "immune models:   0%|          | 0/1 [00:00<?, ?it/s]"
     ]
    },
    {
     "name": "stdout",
     "output_type": "stream",
     "text": [
      "Training SVM...\n"
     ]
    },
    {
     "name": "stderr",
     "output_type": "stream",
     "text": [
      "                                                            "
     ]
    },
    {
     "name": "stdout",
     "output_type": "stream",
     "text": [
      "SVM - Acc: 0.2969, Macro F1: 0.1286, Weighted F1: 0.2058\n",
      "\n",
      "===== Organ: large_intestine =====\n"
     ]
    },
    {
     "name": "stderr",
     "output_type": "stream",
     "text": [
      "padding...: 39678it [00:00, 78336.69it/s]\n",
      "padding...: 9920it [00:00, 77432.63it/s]\n",
      "large_intestine models:   0%|          | 0/1 [00:00<?, ?it/s]"
     ]
    },
    {
     "name": "stdout",
     "output_type": "stream",
     "text": [
      "Training SVM...\n"
     ]
    },
    {
     "name": "stderr",
     "output_type": "stream",
     "text": [
      "                                                                      "
     ]
    },
    {
     "name": "stdout",
     "output_type": "stream",
     "text": [
      "SVM - Acc: 0.3850, Macro F1: 0.1027, Weighted F1: 0.3283\n",
      "\n",
      "===== Organ: pancreas =====\n"
     ]
    },
    {
     "name": "stderr",
     "output_type": "stream",
     "text": [
      "padding...: 21934it [00:00, 76007.99it/s]\n",
      "padding...: 5484it [00:00, 75661.05it/s]\n",
      "pancreas models:   0%|          | 0/1 [00:00<?, ?it/s]"
     ]
    },
    {
     "name": "stdout",
     "output_type": "stream",
     "text": [
      "Training SVM...\n"
     ]
    },
    {
     "name": "stderr",
     "output_type": "stream",
     "text": [
      "                                                              "
     ]
    },
    {
     "name": "stdout",
     "output_type": "stream",
     "text": [
      "SVM - Acc: 0.3769, Macro F1: 0.1398, Weighted F1: 0.2843\n",
      "\n",
      "===== Organ: liver =====\n"
     ]
    },
    {
     "name": "stderr",
     "output_type": "stream",
     "text": [
      "padding...: 22427it [00:00, 65347.56it/s]\n",
      "padding...: 5607it [00:00, 66067.53it/s]\n",
      "liver models:   0%|          | 0/1 [00:00<?, ?it/s]"
     ]
    },
    {
     "name": "stdout",
     "output_type": "stream",
     "text": [
      "Training SVM...\n"
     ]
    },
    {
     "name": "stderr",
     "output_type": "stream",
     "text": [
      "                                                           "
     ]
    },
    {
     "name": "stdout",
     "output_type": "stream",
     "text": [
      "SVM - Acc: 0.3820, Macro F1: 0.1061, Weighted F1: 0.3183\n"
     ]
    },
    {
     "name": "stderr",
     "output_type": "stream",
     "text": [
      "\r"
     ]
    }
   ],
   "source": [
    "def extract_features(dataset):\n",
    "    seqs = dataset[\"input_ids\"]\n",
    "    max_len = max(len(s) for s in seqs)\n",
    "    padded = np.zeros((len(seqs), max_len), dtype=np.int64)\n",
    "    for i, s in tqdm(enumerate(seqs), desc=\"padding...\", colour=\"blue\"):\n",
    "        padded[i, :len(s)] = s\n",
    "    X = np.mean(padded, axis=1)[:, None]  # simple mean pooling\n",
    "    y = np.array(dataset[\"label\"])\n",
    "    return X, y\n",
    "\n",
    "results = {}\n",
    "\n",
    "for organ in organ_list:\n",
    "    print(f\"\\n===== Organ: {organ} =====\")\n",
    "    organ_trainset = trainset_dict[organ]\n",
    "    organ_evalset = evalset_dict[organ]\n",
    "    \n",
    "    X_train, y_train = extract_features(organ_trainset)\n",
    "    X_test, y_test = extract_features(organ_evalset)\n",
    "    \n",
    "    classifiers = {\n",
    "        # \"RandomForest\": RandomForestClassifier(n_estimators=200, random_state=42, n_jobs=-1),\n",
    "        \"SVM\": make_pipeline(StandardScaler(), SVC(kernel=\"rbf\", probability=True, random_state=42)),\n",
    "        # \"LogisticRegression\": make_pipeline(StandardScaler(), LogisticRegression(max_iter=500, multi_class=\"multinomial\"))\n",
    "    }\n",
    "    \n",
    "    organ_results = {}\n",
    "    for clf_name, clf in tqdm(classifiers.items(), desc=f\"{organ} models\", leave=False):\n",
    "        print(f\"Training {clf_name}...\")\n",
    "        clf.fit(X_train, y_train)\n",
    "        preds = clf.predict(X_test)\n",
    "        acc = accuracy_score(y_test, preds)\n",
    "        macro_f1 = f1_score(y_test, preds, average=\"macro\")\n",
    "        weighted_f1 = f1_score(y_test, preds, average=\"weighted\")\n",
    "        organ_results[clf_name] = {\n",
    "            \"accuracy\": acc,\n",
    "            \"macro_f1\": macro_f1,\n",
    "            \"weighted_f1\": weighted_f1\n",
    "        }\n",
    "        print(f\"{clf_name} - Acc: {acc:.4f}, Macro F1: {macro_f1:.4f}, Weighted F1: {weighted_f1:.4f}\")\n",
    "    \n",
    "    results[organ] = organ_results\n"
   ]
  }
 ],
 "metadata": {
  "kernelspec": {
   "display_name": "Python 3",
   "language": "python",
   "name": "python3"
  },
  "language_info": {
   "codemirror_mode": {
    "name": "ipython",
    "version": 3
   },
   "file_extension": ".py",
   "mimetype": "text/x-python",
   "name": "python",
   "nbconvert_exporter": "python",
   "pygments_lexer": "ipython3",
   "version": "3.11.7"
  }
 },
 "nbformat": 4,
 "nbformat_minor": 2
}
