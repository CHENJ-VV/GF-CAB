{
 "cells": [
  {
   "cell_type": "markdown",
   "metadata": {},
   "source": [
    "# Geneformer"
   ]
  },
  {
   "cell_type": "code",
   "execution_count": null,
   "metadata": {},
   "outputs": [],
   "source": [
    "import os\n",
    "import logging\n",
    "import warnings\n",
    "import sys\n",
    "\n",
    "warnings.filterwarnings(\"ignore\", category=DeprecationWarning)\n",
    "warnings.filterwarnings(\"ignore\", category=FutureWarning)\n",
    "\n",
    "from sc_foundation_evals import geneformer_forward as gf\n",
    "from sc_foundation_evals import data, cell_embeddings, model_output\n",
    "from sc_foundation_evals.helpers.custom_logging import log\n",
    "log.setLevel(logging.INFO)"
   ]
  },
  {
   "cell_type": "code",
   "execution_count": null,
   "metadata": {},
   "outputs": [],
   "source": [
    "geneformer_data = \"model path\"\n",
    "# path to the pre-trained model, can work with the huggingface model hub\n",
    "# i.e. ctheodoris/Geneformer\n",
    "model_dir = os.path.join(geneformer_data)\n",
    "# path to dictionaries in geneformer repo\n",
    "dict_dir = \"Pretrain_data/\"\n",
    "\n",
    "# batch_size depends on available GPU memory\n",
    "batch_size = 24\n",
    "# output_dir is the path to which the results should be saved\n",
    "output_dir = \"zero_shot_results/\"\n",
    "# path to where we will store the embeddings and other evaluation outputs\n",
    "model_out = os.path.join(output_dir, \"model_outputs\")\n",
    "# if you can use multithreading specify num_workers, -1 means use all available\n",
    "num_workers = -1"
   ]
  },
  {
   "cell_type": "code",
   "execution_count": null,
   "metadata": {},
   "outputs": [],
   "source": [
    "# specify the path to anndata object\n",
    "in_dataset_path = \"Zero_shot_batch_data/pbmc.h5ad\"\n",
    "# dataset_name is inferred from in_dataset_path\n",
    "dataset_name = os.path.basename(in_dataset_path).split(\".\")[0]\n",
    "# specify the path for the output of the pre-processing\n",
    "preprocessed_path = f\"zero_shot_preprocess/{dataset_name}/\"\n",
    "# create the preprocessed path if it does not exist\n",
    "os.makedirs(preprocessed_path, exist_ok=True)\n",
    "# in which column in adata.obs are gene names stored? if they are in index, the index will be copied to a column with this name\n",
    "gene_col = \"gene_symbols\"\n",
    "# batch column found in adata.obs\n",
    "batch_col = \"batch\"\n",
    "# where are labels stored in adata.obs? \n",
    "label_col = \"celltype\" #\"str_labels\"\n",
    "# where the raw counts are stored?\n",
    "layer_key = \"counts\" #\"X\" "
   ]
  },
  {
   "cell_type": "code",
   "execution_count": null,
   "metadata": {},
   "outputs": [],
   "source": [
    "geneform = gf.Geneformer_instance(save_dir = output_dir, \n",
    "                                  saved_model_path = model_dir,\n",
    "                                  explicit_save_dir = True,\n",
    "                                  num_workers = num_workers)\n",
    "\n",
    "geneform.load_pretrained_model()\n",
    "geneform.load_vocab(dict_dir)\n",
    "# input_data = data.InputData(adata_dataset_path = in_dataset_path)"
   ]
  },
  {
   "cell_type": "markdown",
   "metadata": {},
   "source": [
    "## Create dataset"
   ]
  },
  {
   "cell_type": "code",
   "execution_count": 5,
   "metadata": {},
   "outputs": [],
   "source": [
    "# input_data.preprocess_data(gene_col = gene_col,\n",
    "#                            model_type = \"geneformer\",\n",
    "#                            save_ext = \"loom\",\n",
    "#                            gene_name_id_dict = geneform.gene_name_id,\n",
    "#                            preprocessed_path = preprocessed_path)\n",
    "\n",
    "# geneform.tokenize_data(adata_path = os.path.join(preprocessed_path, \n",
    "#                                                  f\"{dataset_name}.loom\"),\n",
    "#                        dataset_path = preprocessed_path,\n",
    "#                        cell_type_col = label_col)"
   ]
  },
  {
   "cell_type": "markdown",
   "metadata": {},
   "source": [
    "## Load dataset"
   ]
  },
  {
   "cell_type": "code",
   "execution_count": 6,
   "metadata": {},
   "outputs": [
    {
     "name": "stderr",
     "output_type": "stream",
     "text": [
      "\u001b[32mINFO    \u001b[0m | 2025-07-17 11:57:03 | \u001b[32mLoading data from /ibex/user/chenj0i/Geneformer/zero_shot_preprocess/pbmc/pbmc.loom\u001b[0m\n"
     ]
    }
   ],
   "source": [
    "geneform.load_tokenized_dataset(os.path.join(preprocessed_path, f\"{dataset_name}.dataset\"))\n",
    "input_data = data.InputData(adata_dataset_path = os.path.join(preprocessed_path, f\"{dataset_name}.loom\"))"
   ]
  },
  {
   "cell_type": "markdown",
   "metadata": {},
   "source": [
    "## Embeddings extraction"
   ]
  },
  {
   "cell_type": "code",
   "execution_count": 7,
   "metadata": {},
   "outputs": [
    {
     "data": {
      "application/vnd.jupyter.widget-view+json": {
       "model_id": "c89a344776044c95bfef70882ebd4ff8",
       "version_major": 2,
       "version_minor": 0
      },
      "text/plain": [
       "Geneformer (extracting embeddings):   0%|          | 0/500 [00:00<?, ?it/s]"
      ]
     },
     "metadata": {},
     "output_type": "display_data"
    }
   ],
   "source": [
    "geneform.extract_embeddings(data = input_data,\n",
    "                            batch_size = batch_size, \n",
    "                            layer = -2\n",
    "                            # layer = -1\n",
    "                            # layer = 0\n",
    "                            )"
   ]
  },
  {
   "cell_type": "code",
   "execution_count": null,
   "metadata": {},
   "outputs": [
    {
     "data": {
      "text/plain": [
       "AnnData object with n_obs × n_vars = 11990 × 3226\n",
       "    obs: 'adata_order', 'batch', 'celltype', 'labels', 'n_counts', 'n_genes', 'n_genes_by_counts', 'obs_names', 'str_labels', 'total_counts'\n",
       "    var: 'ensembl_id', 'gene_symbols', 'has_ensembl_match', 'mean_counts', 'n_cells', 'n_cells_by_counts', 'n_counts', 'n_counts-0', 'n_counts-1', 'pct_dropout_by_counts', 'total_counts', 'var_names'\n",
       "    obsm: 'geneformer'"
      ]
     },
     "execution_count": 8,
     "metadata": {},
     "output_type": "execute_result"
    }
   ],
   "source": [
    "input_data.adata"
   ]
  },
  {
   "cell_type": "code",
   "execution_count": null,
   "metadata": {},
   "outputs": [],
   "source": [
    "from typing import Dict, Optional\n",
    "import numpy as np\n",
    "import scanpy as sc\n",
    "import scib\n",
    "from anndata import AnnData\n",
    "from sklearn.metrics import silhouette_score\n",
    "from tqdm import tqdm\n",
    "import pandas as pd\n",
    "import logging\n",
    "\n",
    "log = logging.getLogger(__name__)\n",
    "\n",
    "\n",
    "def eval_clustering_metrics(\n",
    "    adata: AnnData,\n",
    "    batch_key: Optional[str] = \"str_batch\",\n",
    "    label_key: str = \"cell_type\",\n",
    "    embedding_key: str = \"X\",  # \"X\" for raw, or embedding key in .obsm\n",
    "    resolutions: Optional[list] = None,\n",
    "    use_progress_bar: bool = True,\n",
    "    verbose: bool = False,\n",
    "    subsample_frac: Optional[float] = 0.25,\n",
    ") -> Dict[str, float]:\n",
    "    \"\"\"Evaluate biological and batch mixing metrics on an embedding or raw expression.\"\"\"\n",
    "    \n",
    "    results_dict = {}\n",
    "\n",
    "    if subsample_frac is not None and 0 < subsample_frac < 1:\n",
    "        adata = adata.copy()\n",
    "        sc.pp.subsample(adata, fraction=subsample_frac, copy=False)\n",
    "        if verbose:\n",
    "            log.info(f\"Subsampled adata to {subsample_frac * 100:.1f}% of original cells.\")\n",
    "\n",
    "    # Determine whether to use .X or .obsm[embedding_key]\n",
    "    if embedding_key == \"X\":\n",
    "        use_rep = \"X\"\n",
    "        adata.obsm[\"X\"] = adata.X\n",
    "    elif embedding_key in adata.obsm:\n",
    "        use_rep = embedding_key\n",
    "    else:\n",
    "        raise ValueError(f\"embedding_key '{embedding_key}' not found in adata.obsm or is not 'X'\")\n",
    "\n",
    "    # Clear stale neighbors\n",
    "    if \"neighbors\" in adata.uns:\n",
    "        if verbose:\n",
    "            log.warning(f\"Removing stale neighbors computed from other representations.\")\n",
    "        adata.uns.pop(\"neighbors\", None)\n",
    "\n",
    "    sc.pp.neighbors(adata, use_rep=use_rep)\n",
    "\n",
    "    # Run Louvain across multiple resolutions\n",
    "    if resolutions is None:\n",
    "        resolutions = [2 * i / 20 for i in range(1, 21)]  # Default: 20 steps from 0.1 to 2.0\n",
    "        # resolutions = [4 * i / 40 for i in range(1, 41)]  # Default: 20 steps from 0.1 to 2.0\n",
    "\n",
    "    best_nmi = -1\n",
    "    best_res = None\n",
    "    best_clustering = None\n",
    "\n",
    "    if verbose:\n",
    "        log.info(f\"Searching for optimal clustering resolution on {use_rep}...\")\n",
    "\n",
    "    for res in tqdm(resolutions, disable=not use_progress_bar, desc=\"Louvain clustering\"):\n",
    "        sc.tl.louvain(adata, resolution=res, key_added=\"temp_cluster\")\n",
    "        nmi = scib.metrics.nmi(adata, \"temp_cluster\", label_key)\n",
    "        if nmi > best_nmi:\n",
    "            best_nmi = nmi\n",
    "            best_res = res\n",
    "            best_clustering = adata.obs[\"temp_cluster\"].copy()\n",
    "        del adata.obs[\"temp_cluster\"]\n",
    "\n",
    "    if verbose:\n",
    "        log.info(f\"Best resolution: {best_res:.2f} with NMI = {best_nmi:.4f}\")\n",
    "\n",
    "    adata.obs[\"cluster\"] = best_clustering\n",
    "\n",
    "    # Biological conservation metrics\n",
    "    results_dict[\"NMI_cluster/label\"] = scib.metrics.nmi(adata, \"cluster\", label_key, \"arithmetic\")\n",
    "    results_dict[\"ARI_cluster/label\"] = scib.metrics.ari(adata, \"cluster\", label_key)\n",
    "    results_dict[\"ASW_label\"] = scib.metrics.silhouette(adata, label_key, use_rep, \"euclidean\")\n",
    "\n",
    "    # Batch effect metrics (if batch_key valid)\n",
    "    if batch_key is not None and batch_key in adata.obs and adata.obs[batch_key].nunique() > 1:\n",
    "        adata.obs[label_key] = adata.obs[label_key].astype(\"category\")\n",
    "        results_dict[\"graph_conn\"] = scib.metrics.graph_connectivity(adata, label_key)\n",
    "        results_dict[\"ASW_batch\"] = scib.metrics.silhouette(adata, batch_key, use_rep, \"euclidean\")\n",
    "        results_dict[\"ASW_label/batch\"] = scib.metrics.silhouette_batch(\n",
    "            adata, batch_key, label_key, embed=use_rep, metric=\"euclidean\", return_all=False\n",
    "        )\n",
    "        results_dict[\"PCR_batch\"] = scib.metrics.pcr(\n",
    "            adata, covariate=batch_key, embed=use_rep, recompute_pca=True, n_comps=50, verbose=False\n",
    "        )\n",
    "        results_dict[\"Average_Batch_Score\"] = (\n",
    "            results_dict[\"ASW_batch\"] + results_dict[\"PCR_batch\"]\n",
    "        ) / 2\n",
    "    else:\n",
    "        if verbose:\n",
    "            log.info(\"Skipping batch metrics — only one batch present or invalid batch_key.\")\n",
    "    \n",
    "    results_dict[\"avg_bio\"] = np.mean([\n",
    "        results_dict[\"NMI_cluster/label\"],\n",
    "        results_dict[\"ARI_cluster/label\"],\n",
    "        results_dict[\"ASW_label\"]\n",
    "    ])\n",
    "\n",
    "    # Filter NaNs\n",
    "    results_dict = {k: v for k, v in results_dict.items() if not np.isnan(v)}\n",
    "\n",
    "    return results_dict\n"
   ]
  },
  {
   "cell_type": "markdown",
   "metadata": {},
   "source": [
    "# Embeddings metrics"
   ]
  },
  {
   "cell_type": "code",
   "execution_count": null,
   "metadata": {},
   "outputs": [
    {
     "name": "stderr",
     "output_type": "stream",
     "text": [
      "Louvain clustering: 100%|██████████| 20/20 [00:02<00:00,  7.68it/s]\n"
     ]
    },
    {
     "name": "stdout",
     "output_type": "stream",
     "text": [
      "mean silhouette per group:                    silhouette_score\n",
      "group                              \n",
      "B cells                    0.990590\n",
      "CD14+ Monocytes            0.979706\n",
      "CD4 T cells                0.987594\n",
      "CD8 T cells                0.991305\n",
      "Dendritic Cells            0.958009\n",
      "FCGR3A+ Monocytes          0.990665\n",
      "Megakaryocytes             0.857295\n",
      "NK cells                   0.977292\n",
      "Other                      0.933587\n"
     ]
    },
    {
     "data": {
      "text/plain": [
       "{'NMI_cluster/label': 0.6061048617613637,\n",
       " 'ARI_cluster/label': 0.503784927975462,\n",
       " 'ASW_label': 0.510432125069201,\n",
       " 'graph_conn': 0.8852579724762832,\n",
       " 'ASW_batch': 0.5012279110960662,\n",
       " 'ASW_label/batch': 0.9628935503212096,\n",
       " 'PCR_batch': 0.0007131078007747846,\n",
       " 'Average_Batch_Score': 0.25097050944842053,\n",
       " 'avg_bio': 0.5401073049353422}"
      ]
     },
     "execution_count": 10,
     "metadata": {},
     "output_type": "execute_result"
    }
   ],
   "source": [
    "results_dict = eval_clustering_metrics(adata=input_data.adata, \n",
    "                                        batch_key=\"batch\",\n",
    "                                        label_key=\"celltype\",\n",
    "                                        embedding_key=\"geneformer\",  # or \"X_scGPT\", etc.\n",
    "                                        verbose=True)\n",
    "results_dict"
   ]
  },
  {
   "cell_type": "code",
   "execution_count": null,
   "metadata": {},
   "outputs": [
    {
     "data": {
      "application/vnd.jupyter.widget-view+json": {
       "model_id": "12c31089634046939fc59c2ef27adb59",
       "version_major": 2,
       "version_minor": 0
      },
      "text/plain": [
       "  0%|          | 0/2 [00:00<?, ?it/s]"
      ]
     },
     "metadata": {},
     "output_type": "display_data"
    },
    {
     "name": "stdout",
     "output_type": "stream",
     "text": [
      "  Rank-Geneformer\n",
      "0        0.805556\n"
     ]
    }
   ],
   "source": [
    "from scGraph import scGraph\n",
    "\n",
    "scg = scGraph(adata=input_data.adata, batch_key=\"batch\", label_key=\"celltype\", \n",
    "                trim_rate=0.05, thres_batch=1, thres_celltype=1)\n",
    "scg.preprocess()\n",
    "scg.compute()\n",
    "results = scg.evaluate()\n",
    "print(results)"
   ]
  },
  {
   "cell_type": "markdown",
   "metadata": {},
   "source": [
    "# OOD Dataset raw metrics"
   ]
  },
  {
   "cell_type": "code",
   "execution_count": null,
   "metadata": {},
   "outputs": [],
   "source": [
    "# import scanpy as sc \n",
    "\n",
    "# cdata = sc.read_h5ad(\"zero_shot_data/ood_celltype_data1_expand.h5ad\")\n",
    "# adata = cdata.copy()\n",
    "# sc.pp.subsample(adata, fraction=0.05, copy=False)"
   ]
  },
  {
   "cell_type": "code",
   "execution_count": 19,
   "metadata": {},
   "outputs": [],
   "source": [
    "# use_rep = \"X\"\n",
    "# adata.obsm[\"X\"] = adata.X\n",
    "# adata.uns.pop(\"neighbors\", None)\n",
    "\n",
    "# sc.pp.neighbors(adata, use_rep=use_rep)\n",
    "# resolutions = [2 * i / 20 for i in range(1, 21)]  # Default: 20 steps from 0.1 to 2.0\n",
    "# best_nmi = -1\n",
    "# best_res = None\n",
    "# best_clustering = None"
   ]
  },
  {
   "cell_type": "code",
   "execution_count": 20,
   "metadata": {},
   "outputs": [
    {
     "name": "stderr",
     "output_type": "stream",
     "text": [
      "Louvain clustering: 100%|██████████| 20/20 [00:22<00:00,  1.14s/it]\n"
     ]
    },
    {
     "name": "stdout",
     "output_type": "stream",
     "text": [
      "mean silhouette per group:             silhouette_score\n",
      "group                       \n",
      "CL:0000077          0.951371\n",
      "CL:0000091          0.905183\n",
      "CL:0000099          0.856871\n",
      "CL:0000164          0.913159\n",
      "CL:0000189          0.934462\n",
      "CL:0000312          0.933951\n",
      "CL:0000453          0.966310\n",
      "CL:0000575          0.779139\n",
      "CL:0000750          0.991985\n",
      "CL:0000767          0.977141\n",
      "CL:0000771          0.893556\n",
      "CL:0000776          0.932994\n",
      "CL:0000810          0.913306\n",
      "CL:0000817          0.931130\n",
      "CL:0000837          0.967683\n",
      "CL:0000843          0.948814\n",
      "CL:0000861          0.841148\n",
      "CL:0000915          0.945803\n",
      "CL:0000957          0.970545\n",
      "CL:0001029          0.950351\n",
      "CL:0001057          0.946863\n",
      "CL:0001074          0.936960\n",
      "CL:0002028          0.935891\n",
      "CL:0002045          0.950375\n",
      "CL:0002064          0.926107\n",
      "CL:0002075          0.759782\n",
      "CL:0002201          0.973459\n",
      "CL:0002393          0.966944\n",
      "CL:0002518          0.911847\n",
      "CL:0005012          0.961174\n",
      "CL:0009009          0.957441\n",
      "CL:0009010          0.933421\n",
      "CL:0009017          0.952055\n",
      "CL:0009042          0.943946\n",
      "CL:0009095          0.863287\n",
      "CL:0011024          0.925223\n",
      "CL:0017000          0.943662\n",
      "CL:1000398          0.954797\n",
      "CL:1000487          0.973023\n",
      "CL:1000488          0.950142\n",
      "CL:1001432          0.984860\n"
     ]
    },
    {
     "data": {
      "text/plain": [
       "{'NMI_cluster/label': 0.7833172618112929,\n",
       " 'ARI_cluster/label': 0.5728303202672791,\n",
       " 'ASW_label': 0.4911566338564166,\n",
       " 'graph_conn': 0.7769019941103583,\n",
       " 'ASW_batch': 0.5006964505924973,\n",
       " 'ASW_label/batch': 0.9306380360099057,\n",
       " 'PCR_batch': 0.757978241899424,\n",
       " 'Average_Batch_Score': 0.6293373462459606,\n",
       " 'avg_bio': 0.6157680719783295}"
      ]
     },
     "execution_count": 20,
     "metadata": {},
     "output_type": "execute_result"
    }
   ],
   "source": [
    "# label_key = \"celltype\"\n",
    "# results_dict = {}\n",
    "# for res in tqdm(resolutions, disable=not True, desc=\"Louvain clustering\"):\n",
    "#     sc.tl.louvain(adata, resolution=res, key_added=\"temp_cluster\")\n",
    "#     nmi = scib.metrics.nmi(adata, \"temp_cluster\", label_key)\n",
    "#     if nmi > best_nmi:\n",
    "#         best_nmi = nmi\n",
    "#         best_res = res\n",
    "#         best_clustering = adata.obs[\"temp_cluster\"].copy()\n",
    "#     del adata.obs[\"temp_cluster\"]\n",
    "\n",
    "# adata.obs[\"cluster\"] = best_clustering\n",
    "# # Biological conservation metrics\n",
    "# results_dict[\"NMI_cluster/label\"] = scib.metrics.nmi(adata, \"cluster\", label_key, \"arithmetic\")\n",
    "# results_dict[\"ARI_cluster/label\"] = scib.metrics.ari(adata, \"cluster\", label_key)\n",
    "# results_dict[\"ASW_label\"] = scib.metrics.silhouette(adata, label_key, use_rep, \"euclidean\")\n",
    "\n",
    "# # Batch effect metrics (if batch_key valid)\n",
    "# batch_key = \"batch\"\n",
    "# if batch_key is not None and batch_key in adata.obs and adata.obs[batch_key].nunique() > 1:\n",
    "#     adata.obs[label_key] = adata.obs[label_key].astype(\"category\")\n",
    "#     results_dict[\"graph_conn\"] = scib.metrics.graph_connectivity(adata, label_key)\n",
    "#     results_dict[\"ASW_batch\"] = (1 - scib.metrics.silhouette(adata, batch_key, use_rep, \"euclidean\"))\n",
    "#     results_dict[\"ASW_label/batch\"] = scib.metrics.silhouette_batch(\n",
    "#         adata, batch_key, label_key, embed=use_rep, metric=\"euclidean\", return_all=False\n",
    "#     )\n",
    "#     results_dict[\"PCR_batch\"] = scib.metrics.pcr(\n",
    "#         adata, covariate=batch_key, embed=use_rep, recompute_pca=True, n_comps=50, verbose=False\n",
    "#     )\n",
    "#     results_dict[\"Average_Batch_Score\"] = (\n",
    "#         results_dict[\"ASW_batch\"] + results_dict[\"PCR_batch\"]\n",
    "#     ) / 2\n",
    "# else:\n",
    "#     if verbose:\n",
    "#         log.info(\"Skipping batch metrics — only one batch present or invalid batch_key.\")\n",
    "\n",
    "# results_dict[\"avg_bio\"] = np.mean([\n",
    "#     results_dict[\"NMI_cluster/label\"],\n",
    "#     results_dict[\"ARI_cluster/label\"],\n",
    "#     results_dict[\"ASW_label\"]\n",
    "# ])\n",
    "\n",
    "# # Filter NaNs\n",
    "# results_dict = {k: v for k, v in results_dict.items() if not np.isnan(v)}\n",
    "\n",
    "# results_dict"
   ]
  },
  {
   "cell_type": "markdown",
   "metadata": {},
   "source": [
    "# Raw data metrics"
   ]
  },
  {
   "cell_type": "code",
   "execution_count": null,
   "metadata": {},
   "outputs": [
    {
     "name": "stderr",
     "output_type": "stream",
     "text": [
      "Louvain clustering: 100%|██████████| 20/20 [00:02<00:00,  6.97it/s]\n"
     ]
    },
    {
     "name": "stdout",
     "output_type": "stream",
     "text": [
      "mean silhouette per group:                    silhouette_score\n",
      "group                              \n",
      "B cells                    0.971033\n",
      "CD14+ Monocytes            0.942456\n",
      "CD4 T cells                0.988742\n",
      "CD8 T cells                0.987412\n",
      "Dendritic Cells            0.938792\n",
      "FCGR3A+ Monocytes          0.950513\n",
      "Megakaryocytes             0.752894\n",
      "NK cells                   0.890206\n",
      "Other                      0.914109\n"
     ]
    },
    {
     "data": {
      "text/plain": [
       "{'NMI_cluster/label': 0.6505152890434263,\n",
       " 'ARI_cluster/label': 0.5759899223104351,\n",
       " 'ASW_label': 0.5245759263634682,\n",
       " 'graph_conn': 0.8891452955038966,\n",
       " 'ASW_batch': 0.4964794989209622,\n",
       " 'ASW_label/batch': 0.9262396008669715,\n",
       " 'PCR_batch': 0.0007824623021499673,\n",
       " 'Average_Batch_Score': 0.24863098061155608,\n",
       " 'avg_bio': 0.5836937125724432}"
      ]
     },
     "execution_count": 16,
     "metadata": {},
     "output_type": "execute_result"
    }
   ],
   "source": [
    "results_dict_raw = eval_clustering_metrics(adata=input_data.adata, \n",
    "                                        batch_key=\"batch\",\n",
    "                                        label_key=\"celltype\",\n",
    "                                        embedding_key=\"X\",  # or \"X_scGPT\", etc.\n",
    "                                        verbose=True)\n",
    "results_dict_raw"
   ]
  },
  {
   "cell_type": "code",
   "execution_count": null,
   "metadata": {},
   "outputs": [],
   "source": [
    "from scGraph import scGraph\n",
    "\n",
    "scg = scGraph(adata=input_data.adata, batch_key=\"batch\", label_key=\"celltype\", \n",
    "                trim_rate=0.05, thres_batch=1, thres_celltype=1, embedding_key=\"X\")\n",
    "scg.preprocess()\n",
    "scg.compute()\n",
    "results = scg.evaluate()\n",
    "print(results)"
   ]
  },
  {
   "cell_type": "markdown",
   "metadata": {},
   "source": [
    "# HVG & scVI"
   ]
  },
  {
   "cell_type": "markdown",
   "metadata": {},
   "source": [
    "## HVG"
   ]
  },
  {
   "cell_type": "code",
   "execution_count": null,
   "metadata": {},
   "outputs": [],
   "source": [
    "import os\n",
    "import logging\n",
    "\n",
    "import numpy as np\n",
    "import pandas as pd\n",
    "import scanpy as sc\n",
    "from scipy import sparse\n",
    "import scvi\n",
    "\n",
    "import sys\n",
    "sys.path.append(\"zero_shot_batch_effect\")\n",
    "from sc_foundation_evals import utils\n",
    "from sc_foundation_evals.helpers.custom_logging import log\n",
    "\n",
    "log.setLevel(logging.INFO)\n",
    "\n",
    "import warnings\n",
    "os.environ[\"KMP_WARNINGS\"] = \"off\"\n",
    "warnings.filterwarnings(\"ignore\")"
   ]
  },
  {
   "cell_type": "code",
   "execution_count": null,
   "metadata": {},
   "outputs": [
    {
     "data": {
      "text/plain": [
       "AnnData object with n_obs × n_vars = 11990 × 3346\n",
       "    obs: 'n_counts', 'batch', 'labels', 'str_labels', 'celltype'\n",
       "    var: 'gene_symbols', 'n_counts-0', 'n_counts-1', 'n_counts'\n",
       "    uns: 'cell_types'\n",
       "    obsm: 'design', 'normalized_qc', 'qc_pc', 'raw_qc'"
      ]
     },
     "execution_count": 18,
     "metadata": {},
     "output_type": "execute_result"
    }
   ],
   "source": [
    "# specify the path to anndata object\n",
    "adata_path = in_dataset_path\n",
    "# dataset_name is inferred from in_dataset_path\n",
    "dataset_name = os.path.basename(adata_path).split(\".\")[0]\n",
    "\n",
    "# batch column found in adata.obs\n",
    "batch_col = \"batch\"\n",
    "# where are labels stored in adata.obs? \n",
    "label_col = \"celltype\"\n",
    "# where the raw counts are stored?\n",
    "layer_key = \"counts\"\n",
    "\n",
    "adata = sc.read(adata_path)\n",
    "adata"
   ]
  },
  {
   "cell_type": "code",
   "execution_count": null,
   "metadata": {},
   "outputs": [],
   "source": [
    "if layer_key == \"X\":\n",
    "    adata.layers[\"counts\"] = adata.X\n",
    "elif layer_key != \"counts\":\n",
    "    adata.layers[\"counts\"] = adata.layers[layer_key]"
   ]
  },
  {
   "cell_type": "code",
   "execution_count": null,
   "metadata": {},
   "outputs": [],
   "source": [
    "sc.pp.filter_cells(adata, min_genes=10)\n",
    "sc.pp.filter_genes(adata, min_cells=10)\n",
    "sc.pp.normalize_total(adata, target_sum=1e4)\n",
    "sc.pp.log1p(adata)"
   ]
  },
  {
   "cell_type": "code",
   "execution_count": null,
   "metadata": {},
   "outputs": [],
   "source": [
    "sc.pp.highly_variable_genes(adata, flavor='seurat', subset=False, n_top_genes=2000)\n",
    "\n",
    "# hvg_mask = adata.var[\"highly_variable\"].values\n",
    "\n",
    "adata.obsm[\"X_genes\"] = adata.X[:, adata.var.highly_variable.values]\n",
    "\n",
    "# check if adata.obsm[\"X_genes\"] is sparse and if so, convert to dense\n",
    "if sparse.issparse(adata.obsm[\"X_genes\"]):\n",
    "    adata.obsm[\"X_genes\"] = np.asarray(adata.obsm[\"X_genes\"].todense())"
   ]
  },
  {
   "cell_type": "code",
   "execution_count": null,
   "metadata": {},
   "outputs": [
    {
     "name": "stderr",
     "output_type": "stream",
     "text": [
      "\u001b[32mINFO    \u001b[0m | 2025-06-22 14:32:11 | \u001b[32mSubsampled adata to 25.0% of original cells.\u001b[0m\n",
      "\u001b[32mINFO    \u001b[0m | 2025-06-22 14:32:12 | \u001b[32mSearching for optimal clustering resolution on X_genes...\u001b[0m\n",
      "Louvain clustering: 100%|██████████| 20/20 [00:02<00:00,  8.92it/s]\n",
      "\u001b[32mINFO    \u001b[0m | 2025-06-22 14:32:14 | \u001b[32mBest resolution: 0.70 with NMI = 0.6944\u001b[0m\n"
     ]
    },
    {
     "name": "stdout",
     "output_type": "stream",
     "text": [
      "mean silhouette per group:                    silhouette_score\n",
      "group                              \n",
      "B cells                    0.990475\n",
      "CD14+ Monocytes            0.994091\n",
      "CD4 T cells                0.994429\n",
      "CD8 T cells                0.996067\n",
      "Dendritic Cells            0.990181\n",
      "FCGR3A+ Monocytes          0.997131\n",
      "Megakaryocytes             0.973109\n",
      "NK cells                   0.997118\n",
      "Other                      0.982645\n"
     ]
    },
    {
     "data": {
      "text/plain": [
       "{'NMI_cluster/label': 0.6944194464119003,\n",
       " 'ARI_cluster/label': 0.6730602977338459,\n",
       " 'ASW_label': 0.513224795460701,\n",
       " 'graph_conn': 0.8757625892165339,\n",
       " 'ASW_batch': 0.4997675784834428,\n",
       " 'ASW_label/batch': 0.9905828886755944,\n",
       " 'PCR_batch': 0.0008402505807411988,\n",
       " 'Average_Batch_Score': 0.250303914532092,\n",
       " 'avg_bio': 0.626901513202149}"
      ]
     },
     "execution_count": 22,
     "metadata": {},
     "output_type": "execute_result"
    }
   ],
   "source": [
    "results_dict_hvg = eval_clustering_metrics(adata=adata, \n",
    "                                        batch_key=batch_col,\n",
    "                                        label_key=label_col,\n",
    "                                        embedding_key=\"X_genes\",  # or \"X_scGPT\", etc.\n",
    "                                        verbose=True)\n",
    "results_dict_hvg"
   ]
  },
  {
   "cell_type": "code",
   "execution_count": null,
   "metadata": {},
   "outputs": [],
   "source": [
    "from scGraph import scGraph\n",
    "\n",
    "scg = scGraph(adata=input_data.adata, batch_key=\"batch\", label_key=\"celltype\", \n",
    "                trim_rate=0.05, thres_batch=1, thres_celltype=1, embedding_key=\"X_genes\")\n",
    "scg.preprocess()\n",
    "scg.compute()\n",
    "results = scg.evaluate()\n",
    "print(results)"
   ]
  },
  {
   "cell_type": "markdown",
   "metadata": {},
   "source": [
    "## scVI"
   ]
  },
  {
   "cell_type": "code",
   "execution_count": null,
   "metadata": {},
   "outputs": [],
   "source": [
    "if \"counts\" not in adata.layers.keys():\n",
    "    adata.layers[\"counts\"] = adata.X.copy()"
   ]
  },
  {
   "cell_type": "code",
   "execution_count": null,
   "metadata": {},
   "outputs": [
    {
     "data": {
      "text/plain": [
       "AnnData object with n_obs × n_vars = 11990 × 3345\n",
       "    obs: 'n_counts', 'batch', 'labels', 'str_labels', 'celltype', 'n_genes'\n",
       "    var: 'gene_symbols', 'n_counts-0', 'n_counts-1', 'n_counts', 'n_cells', 'highly_variable', 'means', 'dispersions', 'dispersions_norm'\n",
       "    uns: 'cell_types', 'log1p', 'hvg'\n",
       "    obsm: 'design', 'normalized_qc', 'qc_pc', 'raw_qc', 'X_genes'\n",
       "    layers: 'counts'"
      ]
     },
     "execution_count": 24,
     "metadata": {},
     "output_type": "execute_result"
    }
   ],
   "source": [
    "adata"
   ]
  },
  {
   "cell_type": "code",
   "execution_count": null,
   "metadata": {},
   "outputs": [
    {
     "name": "stderr",
     "output_type": "stream",
     "text": [
      "GPU available: True (cuda), used: True\n",
      "TPU available: False, using: 0 TPU cores\n",
      "HPU available: False, using: 0 HPUs\n",
      "You are using a CUDA device ('NVIDIA A100-SXM4-80GB') that has Tensor Cores. To properly utilize them, you should set `torch.set_float32_matmul_precision('medium' | 'high')` which will trade-off precision for performance. For more details, read https://pytorch.org/docs/stable/generated/torch.set_float32_matmul_precision.html#torch.set_float32_matmul_precision\n",
      "LOCAL_RANK: 0 - CUDA_VISIBLE_DEVICES: [0]\n",
      "SLURM auto-requeueing enabled. Setting signal handlers.\n"
     ]
    },
    {
     "data": {
      "application/vnd.jupyter.widget-view+json": {
       "model_id": "f654545481b64af2b59385925c0f992a",
       "version_major": 2,
       "version_minor": 0
      },
      "text/plain": [
       "Training:   0%|          | 0/400 [00:00<?, ?it/s]"
      ]
     },
     "metadata": {},
     "output_type": "display_data"
    },
    {
     "name": "stderr",
     "output_type": "stream",
     "text": [
      "`Trainer.fit` stopped: `max_epochs=400` reached.\n"
     ]
    }
   ],
   "source": [
    "scvi.model.SCVI.setup_anndata(adata, layer=\"counts\", batch_key=batch_col)\n",
    "model = scvi.model.SCVI(adata, n_layers=2, n_latent=30, gene_likelihood=\"nb\")\n",
    "model.train()\n",
    "adata.obsm[\"X_scVI\"] = model.get_latent_representation()"
   ]
  },
  {
   "cell_type": "code",
   "execution_count": null,
   "metadata": {},
   "outputs": [],
   "source": [
    "adata.obsm[\"X_scVI\"] = model.get_latent_representation()"
   ]
  },
  {
   "cell_type": "code",
   "execution_count": null,
   "metadata": {},
   "outputs": [
    {
     "name": "stderr",
     "output_type": "stream",
     "text": [
      "\u001b[32mINFO    \u001b[0m | 2025-06-22 14:36:48 | \u001b[32mSubsampled adata to 25.0% of original cells.\u001b[0m\n",
      "\u001b[32mINFO    \u001b[0m | 2025-06-22 14:36:48 | \u001b[32mSearching for optimal clustering resolution on X_scVI...\u001b[0m\n",
      "Louvain clustering: 100%|██████████| 20/20 [00:02<00:00,  7.97it/s]\n",
      "\u001b[32mINFO    \u001b[0m | 2025-06-22 14:36:51 | \u001b[32mBest resolution: 1.20 with NMI = 0.7544\u001b[0m\n"
     ]
    },
    {
     "name": "stdout",
     "output_type": "stream",
     "text": [
      "mean silhouette per group:                    silhouette_score\n",
      "group                              \n",
      "B cells                    0.991501\n",
      "CD14+ Monocytes            0.976939\n",
      "CD4 T cells                0.987053\n",
      "CD8 T cells                0.980696\n",
      "Dendritic Cells            0.931121\n",
      "FCGR3A+ Monocytes          0.974440\n",
      "Megakaryocytes             0.910766\n",
      "NK cells                   0.971491\n",
      "Other                      0.899360\n"
     ]
    },
    {
     "data": {
      "text/plain": [
       "{'NMI_cluster/label': 0.7543923134993394,\n",
       " 'ARI_cluster/label': 0.6471385261878778,\n",
       " 'ASW_label': 0.482499361038208,\n",
       " 'graph_conn': 0.9461266173017836,\n",
       " 'ASW_batch': 0.5024425515439361,\n",
       " 'ASW_label/batch': 0.9581518028443176,\n",
       " 'PCR_batch': 0.00044665558752302455,\n",
       " 'Average_Batch_Score': 0.25144460356572956,\n",
       " 'avg_bio': 0.628010066908475}"
      ]
     },
     "execution_count": 27,
     "metadata": {},
     "output_type": "execute_result"
    }
   ],
   "source": [
    "results_dict_scvi = eval_clustering_metrics(adata=adata, \n",
    "                                        batch_key=batch_col,\n",
    "                                        label_key=label_col,\n",
    "                                        embedding_key=\"X_scVI\",  # or \"X_scGPT\", etc.\n",
    "                                        verbose=True)\n",
    "results_dict_scvi"
   ]
  },
  {
   "cell_type": "code",
   "execution_count": null,
   "metadata": {},
   "outputs": [],
   "source": [
    "from scGraph import scGraph\n",
    "\n",
    "scg = scGraph(adata=input_data.adata, batch_key=\"batch\", label_key=\"celltype\", \n",
    "                trim_rate=0.05, thres_batch=1, thres_celltype=1, embedding_key=\"X_scVI\")\n",
    "scg.preprocess()\n",
    "scg.compute()\n",
    "results = scg.evaluate()\n",
    "print(results)"
   ]
  }
 ],
 "metadata": {
  "kernelspec": {
   "display_name": "Python 3",
   "language": "python",
   "name": "python3"
  },
  "language_info": {
   "codemirror_mode": {
    "name": "ipython",
    "version": 3
   },
   "file_extension": ".py",
   "mimetype": "text/x-python",
   "name": "python",
   "nbconvert_exporter": "python",
   "pygments_lexer": "ipython3",
   "version": "3.11.7"
  }
 },
 "nbformat": 4,
 "nbformat_minor": 2
}
